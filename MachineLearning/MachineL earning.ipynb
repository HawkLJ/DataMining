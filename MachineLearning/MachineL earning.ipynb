{
 "cells": [
  {
   "cell_type": "markdown",
   "metadata": {},
   "source": [
    "# 库"
   ]
  },
  {
   "cell_type": "code",
   "execution_count": 1,
   "metadata": {},
   "outputs": [],
   "source": [
    "import json\n",
    "import pkuseg\n",
    "import pandas as pd\n",
    "import jieba\n",
    "import numpy\n",
    "from sklearn.metrics import classification_report"
   ]
  },
  {
   "cell_type": "markdown",
   "metadata": {},
   "source": [
    "# 训练数据获取"
   ]
  },
  {
   "cell_type": "code",
   "execution_count": 2,
   "metadata": {},
   "outputs": [],
   "source": [
    "def get_data(filename):\n",
    "    f = open(filename, encoding = 'utf-8')\n",
    "    lines = f.readlines()\n",
    "    seg = pkuseg.pkuseg()\n",
    "    data = []\n",
    "    for line in lines:\n",
    "        dic = eval(line)\n",
    "        data.append(dic)\n",
    "    f.close()\n",
    "    data = pd.DataFrame(data)\n",
    "    seg = pkuseg.pkuseg()\n",
    "    stopwords = [line.strip() for line in open('stopwords.txt', encoding=\"utf-8\").readlines()]        #加载停用词\n",
    "    sentence = [i for i in seg.cut(dic['sentence']) if i not in stopwords]\n",
    "    data = pd.DataFrame(data)\n",
    "    for i in range(len(data['sentence'])):\n",
    "        sentence = [i for i in seg.cut(data['sentence'][i]) if i not in stopwords]\n",
    "        keywords = [i for i in seg.cut(data['keywords'][i]) if i not in stopwords]\n",
    "        data['sentence'][i] = sentence\n",
    "        data['keywords'][i] = keywords\n",
    "    return data"
   ]
  },
  {
   "cell_type": "code",
   "execution_count": 3,
   "metadata": {},
   "outputs": [],
   "source": [
    "train_file = \"./tnews_public/train.json\"\n",
    "test_file = './tnews_public/test.json'\n",
    "train_data = get_data(train_file)\n",
    "test_data = get_data(test_file)"
   ]
  },
  {
   "cell_type": "code",
   "execution_count": 4,
   "metadata": {},
   "outputs": [],
   "source": [
    "x_train = train_data['sentence']\n",
    "y_train = train_data['label']\n",
    "x_test = test_data['sentence']\n",
    "y_test = test_data['label']"
   ]
  },
  {
   "cell_type": "code",
   "execution_count": 5,
   "metadata": {},
   "outputs": [
    {
     "data": {
      "text/plain": [
       "'上课 时 学生 手机 响 不停 老师 一怒之下 手机 摔 家长 发票 老师 赔 看待 事'"
      ]
     },
     "execution_count": 5,
     "metadata": {},
     "output_type": "execute_result"
    }
   ],
   "source": [
    "words = []\n",
    "for line_index in range(len(x_train)):\n",
    "    try:\n",
    "        #x_train[line_index][word_index] = str(x_train[line_index][word_index])\n",
    "        words.append(' '.join(x_train[line_index]))\n",
    "    except:\n",
    "        print(line_index,word_index)\n",
    "words[0]"
   ]
  },
  {
   "cell_type": "code",
   "execution_count": 6,
   "metadata": {},
   "outputs": [
    {
     "data": {
      "text/plain": [
       "'哈登 保罗 一见钟情'"
      ]
     },
     "execution_count": 6,
     "metadata": {},
     "output_type": "execute_result"
    }
   ],
   "source": [
    "test_words = []\n",
    "for line_index in range(len(x_test)):\n",
    "    try:\n",
    "        #x_train[line_index][word_index] = str(x_train[line_index][word_index])\n",
    "        test_words.append(' '.join(x_test[line_index]))\n",
    "    except:\n",
    "         print (line_index,word_index)\n",
    "test_words[0]"
   ]
  },
  {
   "cell_type": "markdown",
   "metadata": {},
   "source": [
    "# 词频向量"
   ]
  },
  {
   "cell_type": "code",
   "execution_count": 7,
   "metadata": {},
   "outputs": [
    {
     "data": {
      "text/plain": [
       "CountVectorizer(analyzer='word', binary=False, decode_error='strict',\n",
       "                dtype=<class 'numpy.int64'>, encoding='utf-8', input='content',\n",
       "                lowercase=False, max_df=1.0, max_features=4000, min_df=1,\n",
       "                ngram_range=(1, 1), preprocessor=None, stop_words=None,\n",
       "                strip_accents=None, token_pattern='(?u)\\\\b\\\\w\\\\w+\\\\b',\n",
       "                tokenizer=None, vocabulary=None)"
      ]
     },
     "execution_count": 7,
     "metadata": {},
     "output_type": "execute_result"
    }
   ],
   "source": [
    "from sklearn.feature_extraction.text import CountVectorizer\n",
    " \n",
    "vec = CountVectorizer(analyzer='word', max_features=4000,  lowercase = False)\n",
    "vec.fit(words)"
   ]
  },
  {
   "cell_type": "markdown",
   "metadata": {},
   "source": [
    "# 分类"
   ]
  },
  {
   "cell_type": "code",
   "execution_count": 8,
   "metadata": {},
   "outputs": [
    {
     "data": {
      "text/plain": [
       "0.5084"
      ]
     },
     "execution_count": 8,
     "metadata": {},
     "output_type": "execute_result"
    }
   ],
   "source": [
    "# 贝叶斯分类器\n",
    "from sklearn.naive_bayes import MultinomialNB\n",
    "classifier = MultinomialNB()\n",
    "classifier.fit(vec.transform(words), y_train)\n",
    "classifier.score(vec.transform(test_words), y_test)"
   ]
  },
  {
   "cell_type": "code",
   "execution_count": 9,
   "metadata": {},
   "outputs": [
    {
     "name": "stdout",
     "output_type": "stream",
     "text": [
      "                    precision    recall  f1-score   support\n",
      "\n",
      "        news_story       0.49      0.43      0.46       116\n",
      "      news_culture       0.51      0.44      0.47       367\n",
      "news_entertainment       0.46      0.54      0.50       443\n",
      "       news_sports       0.71      0.60      0.65       393\n",
      "      news_finance       0.46      0.53      0.49       496\n",
      "        news_house       0.61      0.52      0.56       183\n",
      "          news_car       0.60      0.51      0.55       395\n",
      "          news_edu       0.49      0.56      0.52       309\n",
      "         news_tech       0.39      0.53      0.45       569\n",
      "     news_military       0.53      0.45      0.49       344\n",
      "       news_travel       0.51      0.48      0.49       346\n",
      "        news_world       0.48      0.49      0.49       442\n",
      "        news_stock       0.00      0.00      0.00        21\n",
      "  news_agriculture       0.57      0.47      0.52       246\n",
      "         news_game       0.63      0.50      0.56       330\n",
      "\n",
      "          accuracy                           0.51      5000\n",
      "         macro avg       0.50      0.47      0.48      5000\n",
      "      weighted avg       0.52      0.51      0.51      5000\n",
      "\n"
     ]
    }
   ],
   "source": [
    "y_pred=classifier.predict(vec.transform(test_words))\n",
    "target_names=[\"news_story\",\"news_culture\", \"news_entertainment\", \"news_sports\",\"news_finance\",\"news_house\",\"news_car\",\"news_edu\",\"news_tech\",\"news_military\",\"news_travel\",\"news_world\",\"news_stock\",\"news_agriculture\", \"news_game\"]\n",
    "print(classification_report(y_test,y_pred,target_names=target_names))"
   ]
  },
  {
   "cell_type": "code",
   "execution_count": 10,
   "metadata": {},
   "outputs": [
    {
     "data": {
      "text/plain": [
       "0.4856"
      ]
     },
     "execution_count": 10,
     "metadata": {},
     "output_type": "execute_result"
    }
   ],
   "source": [
    "# SVM分类器\n",
    "from sklearn import svm\n",
    "from sklearn.svm import SVC\n",
    "svm_model = svm.SVC(kernel = 'linear',probability=True)\n",
    "svm_model.fit(vec.transform(words), y_train)\n",
    "svm_model.score(vec.transform(test_words), y_test)"
   ]
  },
  {
   "cell_type": "code",
   "execution_count": 11,
   "metadata": {},
   "outputs": [
    {
     "name": "stdout",
     "output_type": "stream",
     "text": [
      "                    precision    recall  f1-score   support\n",
      "\n",
      "        news_story       0.44      0.37      0.40       116\n",
      "      news_culture       0.29      0.62      0.40       367\n",
      "news_entertainment       0.42      0.53      0.47       443\n",
      "       news_sports       0.70      0.56      0.63       393\n",
      "      news_finance       0.42      0.44      0.43       496\n",
      "        news_house       0.60      0.55      0.57       183\n",
      "          news_car       0.56      0.51      0.54       395\n",
      "          news_edu       0.57      0.49      0.53       309\n",
      "         news_tech       0.54      0.48      0.51       569\n",
      "     news_military       0.47      0.36      0.41       344\n",
      "       news_travel       0.53      0.41      0.47       346\n",
      "        news_world       0.51      0.50      0.50       442\n",
      "        news_stock       0.12      0.05      0.07        21\n",
      "  news_agriculture       0.53      0.41      0.46       246\n",
      "         news_game       0.67      0.49      0.57       330\n",
      "\n",
      "          accuracy                           0.49      5000\n",
      "         macro avg       0.49      0.45      0.46      5000\n",
      "      weighted avg       0.51      0.49      0.49      5000\n",
      "\n"
     ]
    }
   ],
   "source": [
    "y_pred=svm_model.predict(vec.transform(test_words))\n",
    "target_names=[\"news_story\",\"news_culture\", \"news_entertainment\", \"news_sports\",\"news_finance\",\"news_house\",\"news_car\",\"news_edu\",\"news_tech\",\"news_military\",\"news_travel\",\"news_world\",\"news_stock\",\"news_agriculture\", \"news_game\"]\n",
    "print(classification_report(y_test,y_pred,target_names=target_names))"
   ]
  },
  {
   "cell_type": "code",
   "execution_count": 12,
   "metadata": {},
   "outputs": [
    {
     "data": {
      "text/plain": [
       "0.4286"
      ]
     },
     "execution_count": 12,
     "metadata": {},
     "output_type": "execute_result"
    }
   ],
   "source": [
    "# 决策树\n",
    "from sklearn import tree\n",
    "tree_model = tree.DecisionTreeClassifier()\n",
    "tree_model.fit(vec.transform(words), y_train)\n",
    "tree_model.score(vec.transform(test_words), y_test)"
   ]
  },
  {
   "cell_type": "code",
   "execution_count": 13,
   "metadata": {},
   "outputs": [
    {
     "name": "stdout",
     "output_type": "stream",
     "text": [
      "                    precision    recall  f1-score   support\n",
      "\n",
      "        news_story       0.21      0.21      0.21       116\n",
      "      news_culture       0.29      0.57      0.38       367\n",
      "news_entertainment       0.41      0.44      0.42       443\n",
      "       news_sports       0.58      0.53      0.56       393\n",
      "      news_finance       0.40      0.41      0.41       496\n",
      "        news_house       0.44      0.43      0.43       183\n",
      "          news_car       0.48      0.47      0.48       395\n",
      "          news_edu       0.47      0.46      0.47       309\n",
      "         news_tech       0.46      0.41      0.43       569\n",
      "     news_military       0.40      0.41      0.40       344\n",
      "       news_travel       0.43      0.32      0.37       346\n",
      "        news_world       0.49      0.41      0.45       442\n",
      "        news_stock       0.29      0.10      0.14        21\n",
      "  news_agriculture       0.39      0.34      0.37       246\n",
      "         news_game       0.63      0.44      0.51       330\n",
      "\n",
      "          accuracy                           0.43      5000\n",
      "         macro avg       0.42      0.40      0.40      5000\n",
      "      weighted avg       0.44      0.43      0.43      5000\n",
      "\n"
     ]
    }
   ],
   "source": [
    "y_pred=tree_model.predict(vec.transform(test_words))\n",
    "target_names=[\"news_story\",\"news_culture\", \"news_entertainment\", \"news_sports\",\"news_finance\",\"news_house\",\"news_car\",\"news_edu\",\"news_tech\",\"news_military\",\"news_travel\",\"news_world\",\"news_stock\",\"news_agriculture\", \"news_game\"]\n",
    "print(classification_report(y_test,y_pred,target_names=target_names))"
   ]
  },
  {
   "cell_type": "code",
   "execution_count": 14,
   "metadata": {
    "scrolled": true
   },
   "outputs": [
    {
     "data": {
      "text/plain": [
       "0.4654"
      ]
     },
     "execution_count": 14,
     "metadata": {},
     "output_type": "execute_result"
    }
   ],
   "source": [
    "# 随机森林\n",
    "from sklearn.ensemble import RandomForestClassifier\n",
    "RF_model = RandomForestClassifier(class_weight='balanced', random_state=1)\n",
    "RF_model.fit(vec.transform(words), y_train)\n",
    "RF_model.score(vec.transform(test_words), y_test)"
   ]
  },
  {
   "cell_type": "code",
   "execution_count": 15,
   "metadata": {},
   "outputs": [
    {
     "name": "stdout",
     "output_type": "stream",
     "text": [
      "                    precision    recall  f1-score   support\n",
      "\n",
      "        news_story       0.24      0.38      0.30       116\n",
      "      news_culture       0.34      0.57      0.42       367\n",
      "news_entertainment       0.49      0.42      0.45       443\n",
      "       news_sports       0.67      0.55      0.61       393\n",
      "      news_finance       0.48      0.42      0.44       496\n",
      "        news_house       0.41      0.54      0.46       183\n",
      "          news_car       0.52      0.50      0.51       395\n",
      "          news_edu       0.51      0.53      0.52       309\n",
      "         news_tech       0.54      0.43      0.48       569\n",
      "     news_military       0.43      0.45      0.44       344\n",
      "       news_travel       0.46      0.39      0.42       346\n",
      "        news_world       0.50      0.42      0.46       442\n",
      "        news_stock       0.14      0.33      0.20        21\n",
      "  news_agriculture       0.37      0.43      0.39       246\n",
      "         news_game       0.58      0.53      0.55       330\n",
      "\n",
      "          accuracy                           0.47      5000\n",
      "         macro avg       0.44      0.46      0.44      5000\n",
      "      weighted avg       0.48      0.47      0.47      5000\n",
      "\n"
     ]
    }
   ],
   "source": [
    "y_pred=RF_model.predict(vec.transform(test_words))\n",
    "target_names=[\"news_story\",\"news_culture\", \"news_entertainment\", \"news_sports\",\"news_finance\",\"news_house\",\"news_car\",\"news_edu\",\"news_tech\",\"news_military\",\"news_travel\",\"news_world\",\"news_stock\",\"news_agriculture\", \"news_game\"]\n",
    "print(classification_report(y_test,y_pred,target_names=target_names))"
   ]
  },
  {
   "cell_type": "markdown",
   "metadata": {},
   "source": [
    "# 可以使用另外一种方式来构造TF-IDF向量"
   ]
  },
  {
   "cell_type": "code",
   "execution_count": 16,
   "metadata": {},
   "outputs": [
    {
     "data": {
      "text/plain": [
       "TfidfVectorizer(analyzer='word', binary=False, decode_error='strict',\n",
       "                dtype=<class 'numpy.float64'>, encoding='utf-8',\n",
       "                input='content', lowercase=False, max_df=1.0, max_features=4000,\n",
       "                min_df=1, ngram_range=(1, 1), norm='l2', preprocessor=None,\n",
       "                smooth_idf=True, stop_words=None, strip_accents=None,\n",
       "                sublinear_tf=False, token_pattern='(?u)\\\\b\\\\w\\\\w+\\\\b',\n",
       "                tokenizer=None, use_idf=True, vocabulary=None)"
      ]
     },
     "execution_count": 16,
     "metadata": {},
     "output_type": "execute_result"
    }
   ],
   "source": [
    "from sklearn.feature_extraction.text import TfidfVectorizer\n",
    " \n",
    "vectorizer = TfidfVectorizer(analyzer='word', max_features=4000,  lowercase = False)\n",
    "vectorizer.fit(words)"
   ]
  },
  {
   "cell_type": "code",
   "execution_count": 17,
   "metadata": {},
   "outputs": [],
   "source": [
    "feature = vectorizer.fit_transform(words)\n",
    "# print('特征：\\n', feature.toarray(), '\\n\\n或者\\n', feature.todense())"
   ]
  },
  {
   "cell_type": "code",
   "execution_count": 18,
   "metadata": {},
   "outputs": [
    {
     "data": {
      "text/plain": [
       "0.501"
      ]
     },
     "execution_count": 18,
     "metadata": {},
     "output_type": "execute_result"
    }
   ],
   "source": [
    "# 贝叶斯分类器\n",
    "from sklearn.naive_bayes import MultinomialNB\n",
    "classifier = MultinomialNB()\n",
    "classifier.fit(vectorizer.transform(words), y_train)\n",
    "classifier.score(vectorizer.transform(test_words), y_test)"
   ]
  },
  {
   "cell_type": "code",
   "execution_count": 19,
   "metadata": {},
   "outputs": [
    {
     "name": "stdout",
     "output_type": "stream",
     "text": [
      "                    precision    recall  f1-score   support\n",
      "\n",
      "        news_story       0.62      0.40      0.48       116\n",
      "      news_culture       0.52      0.42      0.46       367\n",
      "news_entertainment       0.46      0.56      0.50       443\n",
      "       news_sports       0.73      0.61      0.66       393\n",
      "      news_finance       0.43      0.52      0.47       496\n",
      "        news_house       0.66      0.49      0.56       183\n",
      "          news_car       0.59      0.49      0.54       395\n",
      "          news_edu       0.50      0.56      0.53       309\n",
      "         news_tech       0.37      0.54      0.44       569\n",
      "     news_military       0.53      0.43      0.48       344\n",
      "       news_travel       0.54      0.48      0.51       346\n",
      "        news_world       0.47      0.53      0.50       442\n",
      "        news_stock       0.00      0.00      0.00        21\n",
      "  news_agriculture       0.61      0.45      0.52       246\n",
      "         news_game       0.64      0.51      0.57       330\n",
      "\n",
      "          accuracy                           0.51      5000\n",
      "         macro avg       0.51      0.47      0.48      5000\n",
      "      weighted avg       0.53      0.51      0.51      5000\n",
      "\n"
     ]
    }
   ],
   "source": [
    "y_pred=classifier.predict(vec.transform(test_words))\n",
    "target_names=[\"news_story\",\"news_culture\", \"news_entertainment\", \"news_sports\",\"news_finance\",\"news_house\",\"news_car\",\"news_edu\",\"news_tech\",\"news_military\",\"news_travel\",\"news_world\",\"news_stock\",\"news_agriculture\", \"news_game\"]\n",
    "print(classification_report(y_test,y_pred,target_names=target_names))"
   ]
  },
  {
   "cell_type": "code",
   "execution_count": 20,
   "metadata": {},
   "outputs": [
    {
     "data": {
      "text/plain": [
       "0.5028"
      ]
     },
     "execution_count": 20,
     "metadata": {},
     "output_type": "execute_result"
    }
   ],
   "source": [
    "# SVM分类器\n",
    "from sklearn import svm\n",
    "from sklearn.svm import SVC\n",
    "svm_model = svm.SVC(kernel = 'linear',probability=True)\n",
    "svm_model.fit(vectorizer.transform(words), y_train)\n",
    "svm_model.score(vectorizer.transform(test_words), y_test)"
   ]
  },
  {
   "cell_type": "code",
   "execution_count": 21,
   "metadata": {},
   "outputs": [
    {
     "name": "stdout",
     "output_type": "stream",
     "text": [
      "                    precision    recall  f1-score   support\n",
      "\n",
      "        news_story       0.39      0.51      0.44       116\n",
      "      news_culture       0.35      0.52      0.42       367\n",
      "news_entertainment       0.46      0.50      0.48       443\n",
      "       news_sports       0.70      0.57      0.63       393\n",
      "      news_finance       0.42      0.46      0.44       496\n",
      "        news_house       0.51      0.57      0.54       183\n",
      "          news_car       0.58      0.48      0.53       395\n",
      "          news_edu       0.53      0.54      0.53       309\n",
      "         news_tech       0.52      0.50      0.51       569\n",
      "     news_military       0.47      0.40      0.43       344\n",
      "       news_travel       0.54      0.43      0.48       346\n",
      "        news_world       0.47      0.56      0.51       442\n",
      "        news_stock       0.12      0.05      0.07        21\n",
      "  news_agriculture       0.57      0.44      0.50       246\n",
      "         news_game       0.66      0.55      0.60       330\n",
      "\n",
      "          accuracy                           0.50      5000\n",
      "         macro avg       0.49      0.47      0.47      5000\n",
      "      weighted avg       0.51      0.50      0.50      5000\n",
      "\n"
     ]
    }
   ],
   "source": [
    "y_pred=svm_model.predict(vec.transform(test_words))\n",
    "target_names=[\"news_story\",\"news_culture\", \"news_entertainment\", \"news_sports\",\"news_finance\",\"news_house\",\"news_car\",\"news_edu\",\"news_tech\",\"news_military\",\"news_travel\",\"news_world\",\"news_stock\",\"news_agriculture\", \"news_game\"]\n",
    "print(classification_report(y_test,y_pred,target_names=target_names))"
   ]
  },
  {
   "cell_type": "code",
   "execution_count": 22,
   "metadata": {},
   "outputs": [
    {
     "data": {
      "text/plain": [
       "0.444"
      ]
     },
     "execution_count": 22,
     "metadata": {},
     "output_type": "execute_result"
    }
   ],
   "source": [
    "# 决策树\n",
    "from sklearn import tree\n",
    "tree_model = tree.DecisionTreeClassifier()\n",
    "tree_model.fit(vectorizer.transform(words), y_train)\n",
    "tree_model.score(vectorizer.transform(test_words), y_test)"
   ]
  },
  {
   "cell_type": "code",
   "execution_count": 23,
   "metadata": {},
   "outputs": [
    {
     "name": "stdout",
     "output_type": "stream",
     "text": [
      "                    precision    recall  f1-score   support\n",
      "\n",
      "        news_story       0.24      0.26      0.25       116\n",
      "      news_culture       0.26      0.54      0.35       367\n",
      "news_entertainment       0.37      0.42      0.39       443\n",
      "       news_sports       0.53      0.42      0.47       393\n",
      "      news_finance       0.34      0.38      0.36       496\n",
      "        news_house       0.40      0.38      0.39       183\n",
      "          news_car       0.43      0.44      0.44       395\n",
      "          news_edu       0.42      0.41      0.42       309\n",
      "         news_tech       0.42      0.38      0.40       569\n",
      "     news_military       0.41      0.35      0.38       344\n",
      "       news_travel       0.42      0.29      0.35       346\n",
      "        news_world       0.40      0.33      0.36       442\n",
      "        news_stock       0.11      0.05      0.07        21\n",
      "  news_agriculture       0.45      0.35      0.39       246\n",
      "         news_game       0.51      0.34      0.41       330\n",
      "\n",
      "          accuracy                           0.38      5000\n",
      "         macro avg       0.38      0.36      0.36      5000\n",
      "      weighted avg       0.40      0.38      0.39      5000\n",
      "\n"
     ]
    }
   ],
   "source": [
    "y_pred=tree_model.predict(vec.transform(test_words))\n",
    "target_names=[\"news_story\",\"news_culture\", \"news_entertainment\", \"news_sports\",\"news_finance\",\"news_house\",\"news_car\",\"news_edu\",\"news_tech\",\"news_military\",\"news_travel\",\"news_world\",\"news_stock\",\"news_agriculture\", \"news_game\"]\n",
    "print(classification_report(y_test,y_pred,target_names=target_names))"
   ]
  },
  {
   "cell_type": "code",
   "execution_count": 24,
   "metadata": {},
   "outputs": [
    {
     "data": {
      "text/plain": [
       "0.4906"
      ]
     },
     "execution_count": 24,
     "metadata": {},
     "output_type": "execute_result"
    }
   ],
   "source": [
    "# 随机森林\n",
    "from sklearn.ensemble import RandomForestClassifier\n",
    "RF_model = RandomForestClassifier(class_weight='balanced', random_state=1)\n",
    "RF_model.fit(vectorizer.transform(words), y_train)\n",
    "RF_model.score(vectorizer.transform(test_words), y_test)"
   ]
  },
  {
   "cell_type": "code",
   "execution_count": 25,
   "metadata": {},
   "outputs": [
    {
     "name": "stdout",
     "output_type": "stream",
     "text": [
      "                    precision    recall  f1-score   support\n",
      "\n",
      "        news_story       0.20      0.40      0.27       116\n",
      "      news_culture       0.33      0.54      0.41       367\n",
      "news_entertainment       0.47      0.41      0.44       443\n",
      "       news_sports       0.63      0.52      0.57       393\n",
      "      news_finance       0.45      0.35      0.39       496\n",
      "        news_house       0.37      0.55      0.44       183\n",
      "          news_car       0.48      0.47      0.47       395\n",
      "          news_edu       0.51      0.51      0.51       309\n",
      "         news_tech       0.51      0.39      0.44       569\n",
      "     news_military       0.40      0.47      0.43       344\n",
      "       news_travel       0.46      0.39      0.42       346\n",
      "        news_world       0.51      0.36      0.43       442\n",
      "        news_stock       0.10      0.33      0.15        21\n",
      "  news_agriculture       0.37      0.42      0.39       246\n",
      "         news_game       0.57      0.53      0.55       330\n",
      "\n",
      "          accuracy                           0.44      5000\n",
      "         macro avg       0.42      0.44      0.42      5000\n",
      "      weighted avg       0.47      0.44      0.45      5000\n",
      "\n"
     ]
    }
   ],
   "source": [
    "y_pred=RF_model.predict(vec.transform(test_words))\n",
    "target_names=[\"news_story\",\"news_culture\", \"news_entertainment\", \"news_sports\",\"news_finance\",\"news_house\",\"news_car\",\"news_edu\",\"news_tech\",\"news_military\",\"news_travel\",\"news_world\",\"news_stock\",\"news_agriculture\", \"news_game\"]\n",
    "print(classification_report(y_test,y_pred,target_names=target_names))"
   ]
  },
  {
   "cell_type": "code",
   "execution_count": null,
   "metadata": {},
   "outputs": [],
   "source": []
  }
 ],
 "metadata": {
  "kernelspec": {
   "display_name": "Python 3.7.6 64-bit",
   "language": "python",
   "name": "python37664bitaf874343984148f3a6a9a1e52d4b4341"
  },
  "language_info": {
   "codemirror_mode": {
    "name": "ipython",
    "version": 3
   },
   "file_extension": ".py",
   "mimetype": "text/x-python",
   "name": "python",
   "nbconvert_exporter": "python",
   "pygments_lexer": "ipython3",
   "version": "3.7.6"
  }
 },
 "nbformat": 4,
 "nbformat_minor": 2
}
